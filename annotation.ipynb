{
 "cells": [
  {
   "cell_type": "code",
   "execution_count": 95,
   "metadata": {},
   "outputs": [],
   "source": [
    "import geojson\n",
    "import numpy as np\n",
    "from matplotlib.patches import  Rectangle\n",
    "import matplotlib.pyplot as plt\n",
    "from utils import Annotation"
   ]
  },
  {
   "cell_type": "markdown",
   "metadata": {},
   "source": [
    "# Load the `.geojson` file"
   ]
  },
  {
   "cell_type": "code",
   "execution_count": 111,
   "metadata": {},
   "outputs": [
    {
     "data": {
      "text/plain": [
       "{\"features\": [{\"geometry\": {\"coordinates\": [[[20480, 7140], [22433, 7140], [22433, 10752], [20480, 10752], [20480, 7140]]], \"type\": \"Polygon\"}, \"id\": \"0bba083f-7768-4b14-9457-e3aebf1c4505\", \"properties\": {\"classification\": {\"color\": [50, 50, 50], \"name\": \"Necrosis\"}, \"objectType\": \"annotation\"}, \"type\": \"Feature\"}, {\"geometry\": {\"coordinates\": [[[14344, 5245], [16911, 5245], [16911, 10993], [14344, 10993], [14344, 5245]]], \"type\": \"Polygon\"}, \"id\": \"1a2c00df-a2f3-442e-9117-9227a1e5bdd0\", \"properties\": {\"classification\": {\"color\": [150, 200, 150], \"name\": \"Stroma\"}, \"objectType\": \"annotation\"}, \"type\": \"Feature\"}, {\"geometry\": {\"coordinates\": [[[18473, 2455], [27263, 2455], [27263, 4715], [18473, 4715], [18473, 2455]]], \"type\": \"Polygon\"}, \"id\": \"bdab8817-2901-423b-a25d-735b1f69910c\", \"properties\": {\"classification\": {\"color\": [160, 90, 160], \"name\": \"Immune cells\"}, \"objectType\": \"annotation\"}, \"type\": \"Feature\"}], \"type\": \"FeatureCollection\"}"
      ]
     },
     "execution_count": 111,
     "metadata": {},
     "output_type": "execute_result"
    }
   ],
   "source": [
    "with open('39758.geojson') as f:\n",
    "    label = geojson.load(f)\n",
    "label"
   ]
  },
  {
   "cell_type": "markdown",
   "metadata": {},
   "source": [
    "# Patch generation"
   ]
  },
  {
   "cell_type": "code",
   "execution_count": 112,
   "metadata": {},
   "outputs": [
    {
     "data": {
      "text/html": [
       "<div>\n",
       "<style scoped>\n",
       "    .dataframe tbody tr th:only-of-type {\n",
       "        vertical-align: middle;\n",
       "    }\n",
       "\n",
       "    .dataframe tbody tr th {\n",
       "        vertical-align: top;\n",
       "    }\n",
       "\n",
       "    .dataframe thead th {\n",
       "        text-align: right;\n",
       "    }\n",
       "</style>\n",
       "<table border=\"1\" class=\"dataframe\">\n",
       "  <thead>\n",
       "    <tr style=\"text-align: right;\">\n",
       "      <th></th>\n",
       "      <th>name</th>\n",
       "      <th>x</th>\n",
       "      <th>y</th>\n",
       "      <th>w</th>\n",
       "      <th>h</th>\n",
       "    </tr>\n",
       "  </thead>\n",
       "  <tbody>\n",
       "    <tr>\n",
       "      <th>0</th>\n",
       "      <td>Necrosis</td>\n",
       "      <td>20480</td>\n",
       "      <td>7140</td>\n",
       "      <td>1953</td>\n",
       "      <td>3612</td>\n",
       "    </tr>\n",
       "    <tr>\n",
       "      <th>1</th>\n",
       "      <td>Stroma</td>\n",
       "      <td>14344</td>\n",
       "      <td>5245</td>\n",
       "      <td>2567</td>\n",
       "      <td>5748</td>\n",
       "    </tr>\n",
       "    <tr>\n",
       "      <th>2</th>\n",
       "      <td>Immune cells</td>\n",
       "      <td>18473</td>\n",
       "      <td>2455</td>\n",
       "      <td>8790</td>\n",
       "      <td>2260</td>\n",
       "    </tr>\n",
       "  </tbody>\n",
       "</table>\n",
       "</div>"
      ],
      "text/plain": [
       "           name      x     y     w     h\n",
       "0      Necrosis  20480  7140  1953  3612\n",
       "1        Stroma  14344  5245  2567  5748\n",
       "2  Immune cells  18473  2455  8790  2260"
      ]
     },
     "execution_count": 112,
     "metadata": {},
     "output_type": "execute_result"
    }
   ],
   "source": [
    "slide_path = 'path/to/the/WSI/file'\n",
    "a = Annotation(label)\n",
    "df = a.generate_patches(slide_path=slide_path, save_root='test_save', size=512)"
   ]
  }
 ],
 "metadata": {
  "kernelspec": {
   "display_name": "freq-u",
   "language": "python",
   "name": "python3"
  },
  "language_info": {
   "codemirror_mode": {
    "name": "ipython",
    "version": 3
   },
   "file_extension": ".py",
   "mimetype": "text/x-python",
   "name": "python",
   "nbconvert_exporter": "python",
   "pygments_lexer": "ipython3",
   "version": "3.8.5"
  }
 },
 "nbformat": 4,
 "nbformat_minor": 2
}
